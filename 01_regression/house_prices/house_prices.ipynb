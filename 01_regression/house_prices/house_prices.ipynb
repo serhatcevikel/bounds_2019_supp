{
 "cells": [
  {
   "cell_type": "markdown",
   "metadata": {},
   "source": [
    "# MULTIPLE LINEAR REGRESSION: HOUSE PRICES CASE"
   ]
  },
  {
   "cell_type": "code",
   "execution_count": null,
   "metadata": {},
   "outputs": [],
   "source": [
    "library(tidyverse)\n",
    "library(data.table)\n",
    "library(DT)\n",
    "#library(class) # for kNN classification algorithm \n",
    "library(BBmisc) # for normalization\n",
    "library(gmodels) # for model evaluation\n",
    "library(plotly) # for interactive visualization\n",
    "library(knitr)\n",
    "library(kableExtra)\n",
    "library(shiny)\n",
    "library(rgl)\n",
    "library(plot3Drgl)\n",
    "library(shinyRGL)\n",
    "library(pander)\n",
    "library(splines)\n",
    "library(visreg)\n",
    "library(grid)\n",
    "library(gridExtra)\n",
    "library(stargazer)\n",
    "library(corrplot)\n",
    "library(psych)\n",
    "library(fastDummies)\n",
    "library(IRdisplay)"
   ]
  },
  {
   "cell_type": "code",
   "execution_count": null,
   "metadata": {},
   "outputs": [],
   "source": [
    "load(\"../../data/RData/house_prices.RData\")"
   ]
  },
  {
   "cell_type": "markdown",
   "metadata": {},
   "source": [
    "## EXPLORING THE HOUSE PRICES DATA"
   ]
  },
  {
   "cell_type": "markdown",
   "metadata": {},
   "source": [
    "### Definition"
   ]
  },
  {
   "cell_type": "markdown",
   "metadata": {},
   "source": [
    "* A real estate agent wanted to develop a model to predict the selling price of a home. The agent believed that the most important variables in determining the price of a house are its:\n",
    "\n",
    "  + u size,\n",
    "  + v number of bedrooms, \n",
    "  + w and lot size."
   ]
  },
  {
   "cell_type": "markdown",
   "metadata": {},
   "source": [
    "### Navigate"
   ]
  },
  {
   "cell_type": "code",
   "execution_count": null,
   "metadata": {},
   "outputs": [],
   "source": [
    "dt_house <- datatable(\n",
    "  house_prices,\n",
    "  filter = \"top\",\n",
    "  options = list(pageLength = 10)\n",
    ")\n",
    "\n",
    "dt_house"
   ]
  },
  {
   "cell_type": "markdown",
   "metadata": {},
   "source": [
    "### Variable Summaries"
   ]
  },
  {
   "cell_type": "markdown",
   "metadata": {},
   "source": [
    "For illustrative purposes, let's get the statistical summary for all variables:"
   ]
  },
  {
   "cell_type": "code",
   "execution_count": null,
   "metadata": {},
   "outputs": [],
   "source": [
    "house_prices[,summary(.SD)]"
   ]
  },
  {
   "cell_type": "markdown",
   "metadata": {},
   "source": [
    "### Histograms and Boxplots"
   ]
  },
  {
   "cell_type": "code",
   "execution_count": null,
   "metadata": {},
   "outputs": [],
   "source": [
    "vars <- names(house_prices)\n",
    "vars # variables"
   ]
  },
  {
   "cell_type": "code",
   "execution_count": null,
   "metadata": {},
   "outputs": [],
   "source": [
    "var_1 <- vars[1] # selected variable"
   ]
  },
  {
   "cell_type": "code",
   "execution_count": null,
   "metadata": {},
   "outputs": [],
   "source": [
    "var_3 <- 5 # number of bins"
   ]
  },
  {
   "cell_type": "code",
   "execution_count": null,
   "metadata": {},
   "outputs": [],
   "source": [
    "var_1\n",
    "var_3"
   ]
  },
  {
   "cell_type": "code",
   "execution_count": null,
   "metadata": {},
   "outputs": [],
   "source": [
    "house_sub <- house_prices %>% dplyr::filter()"
   ]
  },
  {
   "cell_type": "code",
   "execution_count": null,
   "metadata": {},
   "outputs": [],
   "source": [
    "p1 <- ggplot(house_sub, aes(x = house_sub[[var_1]])) +\n",
    "        geom_histogram(bins = var_3, aes(label=..count..)) +\n",
    "        labs(x = var_1)\n",
    "p1a <- ggplotly(p1, tooltip = \"label\")\n",
    "\n",
    "p2 <- ggplot(house_sub, aes(x = 0, y = house_sub[[var_1]])) +\n",
    "        geom_boxplot() +\n",
    "        theme(axis.text.y=element_blank(), axis.ticks.y=element_blank()) +\n",
    "        coord_flip() +\n",
    "        labs(x = \"\", y = var_1)\n",
    "  \n",
    "subplot(p1a, p2, nrows = 1)"
   ]
  },
  {
   "cell_type": "markdown",
   "metadata": {},
   "source": [
    "### 3D HISTOGRAM"
   ]
  },
  {
   "cell_type": "code",
   "execution_count": null,
   "metadata": {},
   "outputs": [],
   "source": [
    "var_11 <- vars[1] # first variable selected\n",
    "var_12 <- vars[2] # second variable selected\n",
    "var_10 <- 5 # number of bins"
   ]
  },
  {
   "cell_type": "code",
   "execution_count": null,
   "metadata": {},
   "outputs": [],
   "source": [
    "var_11\n",
    "var_12\n",
    "var_10"
   ]
  },
  {
   "cell_type": "code",
   "execution_count": null,
   "metadata": {},
   "outputs": [],
   "source": [
    "house_sub <- house_prices\n",
    "\n",
    "x2 <- house_sub[[var_11]]\n",
    "y2 <- house_sub[[var_12]]\n",
    "labx <- var_11\n",
    "laby <- var_12\n",
    "bins <- var_10\n",
    "\n",
    "##  Create cuts:\n",
    "x_c <- cut(x2, as.integer(bins))\n",
    "y_c <- cut(y2, as.integer(bins))\n",
    "\n",
    "##  Calculate joint counts at cut levels:\n",
    "z1 <- table(x_c, y_c)\n",
    "\n",
    "## Calculate break points\n",
    "breaks <- function(vec) (max(vec) - min(vec)) / bins * 1:bins + min(vec)\n",
    "\n",
    "xb <- breaks(x2)\n",
    "yb <- breaks(y2)\n",
    "\n",
    "##  Plot as a 3D histogram:\n",
    "hist3D1 <- plot3Drgl::hist3Drgl(x = xb,\n",
    "                              y = yb,\n",
    "                              z = z1,\n",
    "                              axes = T,\n",
    "                              label = T,\n",
    "                              xlab = labx,\n",
    "                              ylab = laby,\n",
    "                              zlab = \"frequencies\",\n",
    "                              nticks = bins,\n",
    "                              ticktype = \"detailed\"\n",
    "                              )\n",
    "#hist3D1\n",
    "scene <- scene3d()\n",
    "#rgl::rglwidget()\n",
    "rgl::rglwidget(scene)"
   ]
  },
  {
   "cell_type": "markdown",
   "metadata": {},
   "source": [
    "### Density Plot"
   ]
  },
  {
   "cell_type": "code",
   "execution_count": null,
   "metadata": {},
   "outputs": [],
   "source": [
    "var_21 <- vars[1] # selected variable\n",
    "var_21"
   ]
  },
  {
   "cell_type": "code",
   "execution_count": null,
   "metadata": {},
   "outputs": [],
   "source": [
    "p1 <-  ggplot(house_prices, mapping = aes(x = house_prices[[var_21]])\n",
    ") +\n",
    "        geom_density(adjust = 3) +\n",
    "        guides(color=guide_legend(title=NULL)) +\n",
    "        labs(x = var_21)\n",
    "        \n",
    "ggplotly(p1, tooltip = \"density\")"
   ]
  },
  {
   "cell_type": "markdown",
   "metadata": {},
   "source": [
    "### Scatterplot"
   ]
  },
  {
   "cell_type": "code",
   "execution_count": null,
   "metadata": {},
   "outputs": [],
   "source": [
    "var_4 <- vars[1] # first variable selected\n",
    "var_5 <- vars[2] # second variable selected\n",
    "\n",
    "var_4\n",
    "var_5"
   ]
  },
  {
   "cell_type": "code",
   "execution_count": null,
   "metadata": {
    "scrolled": false
   },
   "outputs": [],
   "source": [
    "p <-  ggplot(house_prices, mapping = aes(x = house_prices[[var_4]],\n",
    "                                 y = house_prices[[var_5]]),\n",
    ") +\n",
    "        geom_point(mapping = aes(text = paste(var_4, \": \", house_prices[[var_4]], \"\\n\",\n",
    "                                              var_5, \": \", house_prices[[var_5]]))) + \n",
    "        geom_smooth() +\n",
    "        guides(color=guide_legend(title=NULL)) +\n",
    "        labs(x = var_4, y = var_5)\n",
    "        \n",
    "ggplotly(p, tooltip = c(\"text\"))\n"
   ]
  },
  {
   "cell_type": "markdown",
   "metadata": {},
   "source": [
    "### 3D Scatterplot"
   ]
  },
  {
   "cell_type": "code",
   "execution_count": null,
   "metadata": {},
   "outputs": [],
   "source": [
    "var_31 <- vars[1] # first variable selected\n",
    "var_32 <- vars[2] # second variable selected\n",
    "var_33 <- vars[3] # third variable selected\n",
    "\n",
    "var_31\n",
    "var_32\n",
    "var_33"
   ]
  },
  {
   "cell_type": "code",
   "execution_count": null,
   "metadata": {},
   "outputs": [],
   "source": [
    "plot_ly(x = house_prices[[var_31]],\n",
    "      y = house_prices[[var_32]],\n",
    "      z = house_prices[[var_33]],\n",
    "      type = \"scatter3d\") %>%\n",
    "plotly::layout(scene = list(\n",
    "  xaxis = list(title = var_31),\n",
    "  yaxis = list(title = var_32),\n",
    "  zaxis = list(title = var_33)))"
   ]
  },
  {
   "cell_type": "markdown",
   "metadata": {},
   "source": [
    "## MODELLING THE HOUSE PRICES DATA"
   ]
  },
  {
   "cell_type": "markdown",
   "metadata": {},
   "source": [
    "### Build and run the multivariate model"
   ]
  },
  {
   "cell_type": "code",
   "execution_count": null,
   "metadata": {},
   "outputs": [],
   "source": [
    "indepvars <- names(house_prices) %>% setdiff(\"Price\")\n",
    "\n",
    "formula1 <- reformulate(indepvars, \"Price\")\n",
    "\n",
    "house_model <- lm(formula1, data = house_prices)"
   ]
  },
  {
   "cell_type": "code",
   "execution_count": null,
   "metadata": {},
   "outputs": [],
   "source": [
    "vars <- setdiff(names(house_prices), \"Price\")\n",
    "sampsize <- house_prices[,.N]"
   ]
  },
  {
   "cell_type": "code",
   "execution_count": null,
   "metadata": {},
   "outputs": [],
   "source": [
    "var_41 <- vars[1] # first variable selected\n",
    "var_42 <- vars[2] # second variable selected\n",
    "var_43 <- sampsize # samplesize\n",
    "\n",
    "var_41\n",
    "var_42\n",
    "var_43"
   ]
  },
  {
   "cell_type": "code",
   "execution_count": null,
   "metadata": {},
   "outputs": [],
   "source": [
    "house_prices2 <- house_prices[sample(.N, var_43)]\n",
    "model <- lm(formula1, data = house_prices2)\n",
    "house_model2 <- list(datax = house_prices2, model = model)\n",
    "modelx <- house_model2\n",
    "house_model2"
   ]
  },
  {
   "cell_type": "markdown",
   "metadata": {},
   "source": [
    "#### Regression output"
   ]
  },
  {
   "cell_type": "code",
   "execution_count": null,
   "metadata": {
    "scrolled": false
   },
   "outputs": [],
   "source": [
    "capture.output(stargazer(house_model2$model,\n",
    "                      report = \"vctps*\",\n",
    "                      ci=TRUE,\n",
    "                      ci.level=0.90,\n",
    "                      single.row=TRUE,\n",
    "                      digits = 2,\n",
    "                     #multicolumn = T,\n",
    "                     #single.row = F,\n",
    "                     type = \"html\")) %>%\n",
    "paste(collapse = \"\\n\") %>%\n",
    "IRdisplay::display_html()"
   ]
  },
  {
   "cell_type": "markdown",
   "metadata": {},
   "source": [
    "#### Multivariate plots"
   ]
  },
  {
   "cell_type": "code",
   "execution_count": null,
   "metadata": {},
   "outputs": [],
   "source": [
    "fit <- modelx$model\n",
    "fit$data <- modelx$datax\n",
    "persp <- visreg2d(fit,\n",
    "                  var_41,\n",
    "                  var_42,\n",
    "                  plot.type = \"persp\", gg = T)\n",
    "persp"
   ]
  },
  {
   "cell_type": "code",
   "execution_count": null,
   "metadata": {},
   "outputs": [],
   "source": [
    "fit <- modelx$model\n",
    "fit$data <- modelx$datax\n",
    "persp <- visreg2d(fit,\n",
    "                  var_41,\n",
    "                  var_42,\n",
    "                  plot.type = \"image\", gg = T)\n",
    "persp"
   ]
  },
  {
   "cell_type": "markdown",
   "metadata": {},
   "source": [
    "#### Univariate plots"
   ]
  },
  {
   "cell_type": "code",
   "execution_count": null,
   "metadata": {
    "scrolled": false
   },
   "outputs": [],
   "source": [
    "fit <- modelx$model\n",
    "fit$data <- modelx$datax\n",
    "\n",
    "plots <- lapply(vars, function(x) visreg(fit, x, gg = T))\n",
    "do.call(grid.arrange, c(plots, nrow = 1))  "
   ]
  },
  {
   "cell_type": "markdown",
   "metadata": {},
   "source": [
    "### Build and run univariate models"
   ]
  },
  {
   "cell_type": "code",
   "execution_count": null,
   "metadata": {},
   "outputs": [],
   "source": [
    "vars <- setdiff(names(house_prices), \"Price\")\n",
    "sampsize <- house_prices[,.N]"
   ]
  },
  {
   "cell_type": "code",
   "execution_count": null,
   "metadata": {},
   "outputs": [],
   "source": [
    "var_53 <- sampsize # sample size\n",
    "var_53"
   ]
  },
  {
   "cell_type": "code",
   "execution_count": null,
   "metadata": {},
   "outputs": [],
   "source": [
    "house_prices3 <- house_prices[sample(.N, var_53)]\n",
    "house_model3 <- lapply(vars, function(x){\n",
    "    formula2 <- reformulate(x, \"Price\")\n",
    "    lm(formula2, data = house_prices3)\n",
    "    }\n",
    "  )\n",
    "\n",
    "house_model3"
   ]
  },
  {
   "cell_type": "markdown",
   "metadata": {},
   "source": [
    "#### Regression output"
   ]
  },
  {
   "cell_type": "code",
   "execution_count": null,
   "metadata": {},
   "outputs": [],
   "source": [
    "capture.output(do.call(stargazer, c(house_model3,\n",
    "                                    report = \"vctps*\",\n",
    "                                    ci=TRUE,\n",
    "                                    ci.level=0.90,\n",
    "                                    single.row=TRUE,\n",
    "                                    digits = 2,\n",
    "                                    type = \"html\"))) %>%\n",
    "paste(collapse = \"\\n\") %>%\n",
    "IRdisplay::display_html()"
   ]
  },
  {
   "cell_type": "markdown",
   "metadata": {},
   "source": [
    "#### Univariate plots"
   ]
  },
  {
   "cell_type": "code",
   "execution_count": null,
   "metadata": {},
   "outputs": [],
   "source": [
    "fit <- house_model3\n",
    "\n",
    "plots <- lapply(fit, function(x) visreg(x, gg = T))\n",
    "do.call(grid.arrange, c(plots, nrow = 1))  "
   ]
  },
  {
   "cell_type": "markdown",
   "metadata": {},
   "source": [
    "### Correlation Plots"
   ]
  },
  {
   "cell_type": "code",
   "execution_count": null,
   "metadata": {},
   "outputs": [],
   "source": [
    "house_prices %>% cor() %>%\n",
    "\n",
    "corrplot::corrplot.mixed(upper = \"ellipse\",\n",
    "                         lower = \"number\",\n",
    "                         tl.pos = \"lt\",\n",
    "                         number.cex = .5,\n",
    "                         lower.col = \"black\",\n",
    "                         tl.cex = 0.7)\n",
    "\n",
    "house_prices %>% psych::pairs.panels()"
   ]
  },
  {
   "cell_type": "code",
   "execution_count": null,
   "metadata": {},
   "outputs": [],
   "source": []
  }
 ],
 "metadata": {
  "kernelspec": {
   "display_name": "R",
   "language": "R",
   "name": "ir"
  },
  "language_info": {
   "codemirror_mode": "r",
   "file_extension": ".r",
   "mimetype": "text/x-r-source",
   "name": "R",
   "pygments_lexer": "r",
   "version": "4.0.2"
  },
  "toc": {
   "base_numbering": 1,
   "nav_menu": {},
   "number_sections": true,
   "sideBar": false,
   "skip_h1_title": true,
   "title_cell": "Table of Contents",
   "title_sidebar": "Contents",
   "toc_cell": false,
   "toc_position": {},
   "toc_section_display": true,
   "toc_window_display": true
  }
 },
 "nbformat": 4,
 "nbformat_minor": 4
}
